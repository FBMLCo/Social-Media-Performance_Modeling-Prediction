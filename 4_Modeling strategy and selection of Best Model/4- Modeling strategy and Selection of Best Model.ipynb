{
 "cells": [
  {
   "cell_type": "markdown",
   "metadata": {},
   "source": [
    "# STEP 4: Modeling strategy and selection of Best Model"
   ]
  },
  {
   "cell_type": "markdown",
   "metadata": {},
   "source": [
    "## Description of the methodology\n",
    "> * **Finalisation of the class definition of the Target Variable (ALL_Impact) and company related feature**\n",
    "* **Model selection performance indicators (e.g. Accuracy, confusion matrix and associated metrics: precision, recall and F1 score)**\n",
    "* **Definition of the best trade-off for the number of components for the PCA dimension reduction process**\n",
    "* **Split of dataset (train & test/validate samples)**\n",
    "* **Description of the approach for minimizing overfitting: cross-validation with stratified k-folds**\n",
    "* **Definition of the Baseline model: Most frequent class. As an alternative, we could explore Naive Bayes classifier or Logistic Regression (depending on the class definition of the Target Variable)**\n",
    "* **Results of Baseline model selected**\n",
    "* **Rationale of the 2 types of model classifier selected: SVM and Random Forest**"
   ]
  },
  {
   "cell_type": "markdown",
   "metadata": {},
   "source": [
    "## Import libraries"
   ]
  },
  {
   "cell_type": "code",
   "execution_count": 1,
   "metadata": {},
   "outputs": [],
   "source": [
    "import numpy as np\n",
    "import pandas as pd\n",
    "import seaborn as sns\n",
    "import scipy.fftpack as sp\n",
    "\n",
    "%matplotlib inline\n",
    "import matplotlib.pyplot as plt\n",
    "\n",
    "import re\n",
    "from sklearn.preprocessing import Normalizer\n",
    "import os\n",
    "from sklearn import preprocessing\n",
    "from scipy.stats import kurtosis\n",
    "from scipy.stats import skew\n",
    "from scipy import stats\n",
    "from sklearn.preprocessing import power_transform\n",
    "from sklearn.preprocessing import KBinsDiscretizer\n",
    "\n",
    "from sklearn.ensemble import RandomForestClassifier\n",
    "from sklearn.cluster import KMeans\n",
    "from sklearn.naive_bayes import ComplementNB, MultinomialNB\n",
    "\n",
    "from sklearn.preprocessing import StandardScaler\n",
    "from sklearn.neighbors import KNeighborsClassifier\n",
    "from sklearn.neighbors import NearestNeighbors\n",
    "from sklearn.pipeline import Pipeline\n",
    "from sklearn.model_selection import train_test_split\n",
    "from sklearn.dummy import DummyClassifier\n",
    "from sklearn.neighbors import KNeighborsClassifier\n",
    "from sklearn.model_selection import ParameterGrid\n",
    "\n",
    "from sklearn.linear_model import SGDClassifier\n",
    "\n",
    "from sklearn.model_selection import KFold\n",
    "from sklearn.model_selection import cross_validate\n",
    "from sklearn.model_selection import ShuffleSplit\n",
    "from sklearn.model_selection import GridSearchCV\n",
    "from sklearn.linear_model import LogisticRegressionCV\n",
    "from sklearn.cluster import KMeans\n",
    "from sklearn.decomposition import PCA\n",
    "\n",
    "from sklearn.tree import DecisionTreeClassifier\n",
    "\n",
    "from sklearn.svm import LinearSVC\n",
    "from sklearn.svm import SVC\n",
    "\n",
    "from sklearn.metrics import confusion_matrix\n",
    "from sklearn.metrics import roc_auc_score\n",
    "from sklearn.metrics import classification_report\n",
    "from sklearn.metrics import roc_curve\n",
    "import scikitplot as skplt\n",
    "\n",
    "# t_NSE dimensionality reduction\n",
    "from sklearn.manifold import TSNE\n",
    "\n",
    "import random\n",
    "from sklearn import ensemble\n",
    "\n",
    "from sklearn.model_selection import StratifiedShuffleSplit\n",
    "\n",
    "import warnings\n",
    "\n",
    "with warnings.catch_warnings():\n",
    "    warnings.simplefilter(\"ignore\")\n",
    "\n",
    "\n",
    "# Activate Seaborn style\n",
    "sns.set()"
   ]
  },
  {
   "cell_type": "markdown",
   "metadata": {},
   "source": [
    "## Load the file for analysis"
   ]
  },
  {
   "cell_type": "code",
   "execution_count": 2,
   "metadata": {},
   "outputs": [],
   "source": [
    "# Importing the file and creating a dataframe\n",
    "master_modeling = pd.read_csv(\n",
    "    \"master_modeling.csv\",\n",
    "    low_memory=False,\n",
    "    skipinitialspace=True,\n",
    ")  # , sep='\\t'"
   ]
  },
  {
   "cell_type": "code",
   "execution_count": 3,
   "metadata": {},
   "outputs": [],
   "source": [
    "# display all columns\n",
    "pd.set_option(\"display.max_columns\", None)"
   ]
  },
  {
   "cell_type": "code",
   "execution_count": 4,
   "metadata": {},
   "outputs": [
    {
     "data": {
      "text/plain": [
       "(194484, 351)"
      ]
     },
     "execution_count": 4,
     "metadata": {},
     "output_type": "execute_result"
    }
   ],
   "source": [
    "# remove the Unnamed column\n",
    "master_modeling.drop(\"Unnamed: 0\", axis=1, inplace=True)\n",
    "master_modeling.shape"
   ]
  },
  {
   "cell_type": "code",
   "execution_count": 5,
   "metadata": {},
   "outputs": [],
   "source": [
    "# Create a dataframe for the modeling phase (without text and not relevant features)\n",
    "df_modeling = master_modeling.drop([\"Title\", \"Post_ID\", \"Snippet\"], axis=1)"
   ]
  },
  {
   "cell_type": "code",
   "execution_count": 6,
   "metadata": {},
   "outputs": [
    {
     "data": {
      "text/plain": [
       "(194484, 348)"
      ]
     },
     "execution_count": 6,
     "metadata": {},
     "output_type": "execute_result"
    }
   ],
   "source": [
    "df_modeling.shape"
   ]
  },
  {
   "cell_type": "markdown",
   "metadata": {},
   "source": [
    "## Definition of # of classes for the Target Variable 'All_Impact'"
   ]
  },
  {
   "cell_type": "markdown",
   "metadata": {},
   "source": [
    "> * We will split the variable in 3 classes using Scikit Learn preprocessing function KBinDiscretizer with the following parameters: number of bins 3, encode: ordinal and strategy: quantile\n",
    "* Oridinal has been selected as we are trying to model a hierarchy between low and high tweet impact\n",
    "* Quantile implies an even number of data points per class which would shape the model to learn about features for each class equally (avoiding unbalance classes)\n",
    "* We may reconsider some of the value of the parameters depending on the modeling results"
   ]
  },
  {
   "cell_type": "code",
   "execution_count": 7,
   "metadata": {},
   "outputs": [],
   "source": [
    "ai_bin = master_modeling[[\"ALL_Impact\"]]"
   ]
  },
  {
   "cell_type": "code",
   "execution_count": 8,
   "metadata": {},
   "outputs": [],
   "source": [
    "# Process binizer\n",
    "est = KBinsDiscretizer(n_bins=3, encode=\"ordinal\", strategy=\"quantile\")\n",
    "est.fit(ai_bin)\n",
    "new_ai = est.transform(ai_bin)"
   ]
  },
  {
   "cell_type": "code",
   "execution_count": 9,
   "metadata": {},
   "outputs": [
    {
     "data": {
      "text/plain": [
       "array([ 0., 30., 41., 80.])"
      ]
     },
     "execution_count": 9,
     "metadata": {},
     "output_type": "execute_result"
    }
   ],
   "source": [
    "# Call the edge of the different 3 bins\n",
    "est.bin_edges_[0]"
   ]
  },
  {
   "cell_type": "code",
   "execution_count": 10,
   "metadata": {},
   "outputs": [],
   "source": [
    "new_ai_df = pd.DataFrame(new_ai)"
   ]
  },
  {
   "cell_type": "code",
   "execution_count": 11,
   "metadata": {},
   "outputs": [
    {
     "data": {
      "text/plain": [
       "(194484, 1)"
      ]
     },
     "execution_count": 11,
     "metadata": {},
     "output_type": "execute_result"
    }
   ],
   "source": [
    "new_ai_df.shape"
   ]
  },
  {
   "cell_type": "code",
   "execution_count": 12,
   "metadata": {},
   "outputs": [],
   "source": [
    "df_modeling[\"All_impact bin\"] = new_ai_df"
   ]
  },
  {
   "cell_type": "code",
   "execution_count": 13,
   "metadata": {},
   "outputs": [
    {
     "data": {
      "text/plain": [
       "2.0    69658\n",
       "1.0    63049\n",
       "0.0    61777\n",
       "Name: All_impact bin, dtype: int64"
      ]
     },
     "execution_count": 13,
     "metadata": {},
     "output_type": "execute_result"
    }
   ],
   "source": [
    "df_modeling[\"All_impact bin\"].value_counts()"
   ]
  },
  {
   "cell_type": "code",
   "execution_count": 14,
   "metadata": {},
   "outputs": [],
   "source": [
    "# Remove the original All_Impact feature\n",
    "df_modeling2 = df_modeling.drop(\n",
    "    [\"ALL_Impact\", \"TW_Hashtags\", \"ALL_Author\", \"TW_Account_Name\"], axis=1\n",
    ")"
   ]
  },
  {
   "cell_type": "code",
   "execution_count": 15,
   "metadata": {},
   "outputs": [],
   "source": [
    "# Transform new All Impact feature type into int64\n",
    "df_modeling2[\"All_impact bin\"] = df_modeling2[\"All_impact bin\"].astype(np.int64)"
   ]
  },
  {
   "cell_type": "code",
   "execution_count": 16,
   "metadata": {},
   "outputs": [
    {
     "data": {
      "text/plain": [
       "(194484, 345)"
      ]
     },
     "execution_count": 16,
     "metadata": {},
     "output_type": "execute_result"
    }
   ],
   "source": [
    "df_modeling2.shape"
   ]
  },
  {
   "cell_type": "markdown",
   "metadata": {},
   "source": [
    "## Definition of the model performance metrics\n",
    "> * As we are dealing with classifiers we will look at accuracy, f1 scores using Scikit Learn confusion report"
   ]
  },
  {
   "cell_type": "markdown",
   "metadata": {},
   "source": [
    "## Definition of the best trade-off for the number of components for the PCA dimension reduction process\n",
    "> * We will apply PCA to all features (except target variable) in order to evaluate the number of components which could explain 80% to 99% of the variance\n",
    "* It will help to optimize computing resources while keeping a good level of information for the modeling process"
   ]
  },
  {
   "cell_type": "markdown",
   "metadata": {},
   "source": [
    "### Create X and y arrays"
   ]
  },
  {
   "cell_type": "code",
   "execution_count": 17,
   "metadata": {},
   "outputs": [
    {
     "data": {
      "text/plain": [
       "(194484, 344)"
      ]
     },
     "execution_count": 17,
     "metadata": {},
     "output_type": "execute_result"
    }
   ],
   "source": [
    "# Create an array from df_modeling2 excluding the target variable All impact bin\n",
    "X = df_modeling2.drop([\"All_impact bin\"], axis=1)\n",
    "X = np.array(X)\n",
    "X.shape"
   ]
  },
  {
   "cell_type": "code",
   "execution_count": 18,
   "metadata": {},
   "outputs": [
    {
     "data": {
      "text/plain": [
       "(194484,)"
      ]
     },
     "execution_count": 18,
     "metadata": {},
     "output_type": "execute_result"
    }
   ],
   "source": [
    "# Create y array for the target variable All impact bin\n",
    "y = df_modeling2[\"All_impact bin\"]\n",
    "y = np.array(y)\n",
    "y.shape"
   ]
  },
  {
   "cell_type": "markdown",
   "metadata": {},
   "source": [
    "### Standardize features"
   ]
  },
  {
   "cell_type": "code",
   "execution_count": 19,
   "metadata": {},
   "outputs": [],
   "source": [
    "# Create Standard scaler\n",
    "scaler = StandardScaler()\n",
    "\n",
    "# Rescale data\n",
    "X_rescaled = scaler.fit_transform(X)"
   ]
  },
  {
   "cell_type": "code",
   "execution_count": 20,
   "metadata": {},
   "outputs": [],
   "source": [
    "# Create PCA transformer\n",
    "pcan = PCA(n_components=None)\n",
    "\n",
    "# Apply PCA to the df_modeling2 dataframe\n",
    "pcan.fit(X_rescaled)\n",
    "\n",
    "# Proportion of variance explained\n",
    "pveo = pcan.explained_variance_ratio_"
   ]
  },
  {
   "cell_type": "code",
   "execution_count": 21,
   "metadata": {},
   "outputs": [
    {
     "data": {
      "image/png": "[encoded data removed]",
      "text/plain": [
       "<Figure size 432x288 with 1 Axes>"
      ]
     },
     "metadata": {
      "needs_background": "light"
     },
     "output_type": "display_data"
    }
   ],
   "source": [
    "# Create plot\n",
    "xcor = np.arange(1, len(pveo) + 1)  # 1,2,..,n_components\n",
    "plt.xticks(xcor)\n",
    "\n",
    "# Add cumulative sum\n",
    "pveo_cumsum = np.cumsum(pveo)\n",
    "plt.plot(\n",
    "    xcor, pveo_cumsum, label=\"cumulative\"  # 1.5,2.5,..,n_components  # Cumulative sum\n",
    ")\n",
    "\n",
    "# Add labels\n",
    "plt.xlabel(\"principal component\")\n",
    "plt.ylabel(\"variance explained\")\n",
    "plt.legend()\n",
    "plt.show()"
   ]
  },
  {
   "cell_type": "code",
   "execution_count": 22,
   "metadata": {},
   "outputs": [
    {
     "name": "stdout",
     "output_type": "stream",
     "text": [
      "Cum. Var.80%: 136\n",
      "Cum. Var.90%: 200\n",
      "Cum. Var.95%: 250\n",
      "Cum. Var.99%: 312\n"
     ]
    }
   ],
   "source": [
    "# 80% of the variance explained\n",
    "pveo80 = pveo_cumsum[pveo_cumsum <= 0.80]\n",
    "cumvar_80 = np.count_nonzero(pveo80)\n",
    "\n",
    "# 90% of the variance explained\n",
    "pveo90 = pveo_cumsum[pveo_cumsum <= 0.90]\n",
    "cumvar_90 = np.count_nonzero(pveo90)\n",
    "\n",
    "# 95% of the variance explained\n",
    "pveo95 = pveo_cumsum[pveo_cumsum <= 0.95]\n",
    "cumvar_95 = np.count_nonzero(pveo95)\n",
    "\n",
    "# 99% of the variance explained\n",
    "pveo99 = pveo_cumsum[pveo_cumsum <= 0.99]\n",
    "cumvar_99 = np.count_nonzero(pveo99)\n",
    "\n",
    "print(\"Cum. Var.80%:\", cumvar_80)\n",
    "print(\"Cum. Var.90%:\", cumvar_90)\n",
    "print(\"Cum. Var.95%:\", cumvar_95)\n",
    "print(\"Cum. Var.99%:\", cumvar_99)"
   ]
  },
  {
   "cell_type": "markdown",
   "metadata": {},
   "source": [
    "### Conclusions about the number of components kept for the PCA process\n",
    "> * We will tune PCA with 200 components"
   ]
  },
  {
   "cell_type": "markdown",
   "metadata": {},
   "source": [
    "## Create a train, validation and test datasets (from the main Train set of data)\n",
    "> * As we are going to optimize hyper-parameters of models with GridSearch, we need to differentiate train/test datasets in 2 groups: the one used for tuning hyper-parameters and the second for processing the best model selected out of the hyper-parameter optimization\n",
    "* We will run different configuration of decision trees and SVM in order to select the Best Model (overall) that we will apply on the original Test dataset\n",
    "* We could limit the risk of overfitting by using a cross-validation approach. However, we may run the risk of very demanding computing resources as we will combine hyper-parameter optimizatio (GridSearch) and large dataset (194484 rows x 344 variables).\n",
    "* A compromised approach would be to use the standard train/test dataset split and leverage Cross-validation for the validation phase in the process for select the best model."
   ]
  },
  {
   "cell_type": "code",
   "execution_count": 23,
   "metadata": {},
   "outputs": [
    {
     "data": {
      "text/plain": [
       "(194484, 344)"
      ]
     },
     "execution_count": 23,
     "metadata": {},
     "output_type": "execute_result"
    }
   ],
   "source": [
    "X.shape"
   ]
  },
  {
   "cell_type": "code",
   "execution_count": 24,
   "metadata": {},
   "outputs": [
    {
     "name": "stdout",
     "output_type": "stream",
     "text": [
      "Train: (155587, 344) (155587,)\n",
      "Test: (38897, 344) (38897,)\n",
      "Train2: (5000, 344) (5000,)\n",
      "Valid: (1500, 344) (1500,)\n"
     ]
    }
   ],
   "source": [
    "# Convert the type of the input matrix to float\n",
    "X = X.astype(np.float)\n",
    "\n",
    "# Create train set\n",
    "X_tr_main, X_test, y_tr_main, y_test = train_test_split(\n",
    "    X, y, test_size=0.2, random_state=0\n",
    ")\n",
    "\n",
    "# Create validation and test sets\n",
    "X_tr_2nd, X_valid, y_tr_2nd, y_valid = train_test_split(\n",
    "    X_tr_main, y_tr_main, test_size=1500, train_size=5000, random_state=0\n",
    ")\n",
    "\n",
    "print(\"Train:\", X_tr_main.shape, y_tr_main.shape)\n",
    "print(\"Test:\", X_test.shape, y_test.shape)\n",
    "print(\"Train2:\", X_tr_2nd.shape, y_tr_2nd.shape)\n",
    "print(\"Valid:\", X_valid.shape, y_valid.shape)"
   ]
  },
  {
   "cell_type": "code",
   "execution_count": 25,
   "metadata": {},
   "outputs": [
    {
     "data": {
      "text/plain": [
       "2    0.369333\n",
       "1    0.322000\n",
       "0    0.308667\n",
       "dtype: float64"
      ]
     },
     "execution_count": 25,
     "metadata": {},
     "output_type": "execute_result"
    }
   ],
   "source": [
    "pd.value_counts(y_valid, normalize=True)"
   ]
  },
  {
   "cell_type": "markdown",
   "metadata": {},
   "source": [
    "## Definition of the Baseline model\n",
    "> * We will consider 2 Baseline models: Most Frequent class (to evaluate an approached based on the simple distribution of data points) and Logistic Regression as a simple model\n",
    "* It will provide us with a range of a basic estimate (most frequent class) and a more realistic model for which the comparison with optimized classifiers will be more meaningful and relevant\n",
    "* The gap of accuracy results between the 2 baseline approaches would indicate the quality of data and pre-processing step"
   ]
  },
  {
   "cell_type": "markdown",
   "metadata": {},
   "source": [
    "### Most Frequent class\n",
    "> * class 1 (87572) / total number of tweets (194484) = **45%**"
   ]
  },
  {
   "cell_type": "markdown",
   "metadata": {},
   "source": [
    "### Logistic Regression\n",
    "> * We will apply Logist Regression which a robust algorithm and no highly demanding in terms of computational resources"
   ]
  },
  {
   "cell_type": "markdown",
   "metadata": {},
   "source": [
    "#### Create a Logistic Regression pipeline"
   ]
  },
  {
   "cell_type": "code",
   "execution_count": 26,
   "metadata": {},
   "outputs": [],
   "source": [
    "# Create Logistic Regression pipeline\n",
    "pipe = Pipeline(\n",
    "    [\n",
    "        (\"scaler\", StandardScaler()),  # with standardization\n",
    "        (\"PCA\", PCA(n_components=200)),  # 200 components to explain 95% of the variance\n",
    "        (\n",
    "            \"sgd_logreg\",\n",
    "            SGDClassifier(\n",
    "                loss=\"log\", max_iter=1000, tol=1e-3, random_state=0, n_jobs=-1\n",
    "            ),\n",
    "        ),\n",
    "    ]\n",
    ")"
   ]
  },
  {
   "cell_type": "markdown",
   "metadata": {},
   "source": [
    "#### Run the Logistic Regression model on sub-train data set (10 000 tweets) and test accuracy on the validation data set (2 500 tweets)"
   ]
  },
  {
   "cell_type": "code",
   "execution_count": 27,
   "metadata": {},
   "outputs": [
    {
     "data": {
      "text/plain": [
       "Pipeline(memory=None,\n",
       "         steps=[('scaler',\n",
       "                 StandardScaler(copy=True, with_mean=True, with_std=True)),\n",
       "                ('PCA',\n",
       "                 PCA(copy=True, iterated_power='auto', n_components=200,\n",
       "                     random_state=None, svd_solver='auto', tol=0.0,\n",
       "                     whiten=False)),\n",
       "                ('sgd_logreg',\n",
       "                 SGDClassifier(alpha=0.0001, average=False, class_weight=None,\n",
       "                               early_stopping=False, epsilon=0.1, eta0=0.0,\n",
       "                               fit_intercept=True, l1_ratio=0.15,\n",
       "                               learning_rate='optimal', loss='log',\n",
       "                               max_iter=1000, n_iter_no_change=5, n_jobs=-1,\n",
       "                               penalty='l2', power_t=0.5, random_state=0,\n",
       "                               shuffle=True, tol=0.001, validation_fraction=0.1,\n",
       "                               verbose=0, warm_start=False))],\n",
       "         verbose=False)"
      ]
     },
     "execution_count": 27,
     "metadata": {},
     "output_type": "execute_result"
    }
   ],
   "source": [
    "# Fit the model\n",
    "pipe.fit(X_tr_2nd, y_tr_2nd)"
   ]
  },
  {
   "cell_type": "markdown",
   "metadata": {},
   "source": [
    "#### Print Mean accuracy"
   ]
  },
  {
   "cell_type": "code",
   "execution_count": 28,
   "metadata": {},
   "outputs": [
    {
     "name": "stdout",
     "output_type": "stream",
     "text": [
      "Mean accuracy: 0.7946666666666666\n"
     ]
    }
   ],
   "source": [
    "accuracy = pipe.score(X_valid, y_valid)\n",
    "print(\"Mean accuracy:\", accuracy)"
   ]
  },
  {
   "cell_type": "markdown",
   "metadata": {},
   "source": [
    "#### Print Classification report and plot the Confusion matrix"
   ]
  },
  {
   "cell_type": "code",
   "execution_count": 29,
   "metadata": {},
   "outputs": [],
   "source": [
    "# Make prediction on X-valid dataset\n",
    "y_pred_lr = pipe.predict(X_valid)"
   ]
  },
  {
   "cell_type": "code",
   "execution_count": 30,
   "metadata": {},
   "outputs": [
    {
     "name": "stdout",
     "output_type": "stream",
     "text": [
      "              precision    recall  f1-score   support\n",
      "\n",
      "     class 0       0.82      0.92      0.87       463\n",
      "     class 1       0.75      0.58      0.66       483\n",
      "     class 2       0.79      0.88      0.83       554\n",
      "\n",
      "    accuracy                           0.79      1500\n",
      "   macro avg       0.79      0.79      0.79      1500\n",
      "weighted avg       0.79      0.79      0.79      1500\n",
      "\n"
     ]
    }
   ],
   "source": [
    "# Confusions report\n",
    "target_names = [\"class 0\", \"class 1\", \"class 2\"]\n",
    "print(classification_report(y_valid, y_pred_lr, target_names=target_names))"
   ]
  },
  {
   "cell_type": "code",
   "execution_count": 31,
   "metadata": {},
   "outputs": [
    {
     "data": {
      "image/png": "[encoded data removed]",
      "text/plain": [
       "<Figure size 864x864 with 2 Axes>"
      ]
     },
     "metadata": {
      "needs_background": "light"
     },
     "output_type": "display_data"
    }
   ],
   "source": [
    "# Confusion matrix plot\n",
    "cm_logreg = skplt.metrics.plot_confusion_matrix(y_valid, y_pred_lr, figsize=(12, 12))"
   ]
  },
  {
   "cell_type": "markdown",
   "metadata": {},
   "source": [
    "### Save the results for visualization at a later stage"
   ]
  },
  {
   "cell_type": "code",
   "execution_count": 33,
   "metadata": {},
   "outputs": [
    {
     "name": "stdout",
     "output_type": "stream",
     "text": [
      "Stored 'Logreg_acc' (float)\n",
      "Stored 'c1_logreg_f1' (float)\n",
      "Stored 'c2_logreg_f1' (float)\n",
      "Stored 'c3_logreg_f1' (float)\n"
     ]
    }
   ],
   "source": [
    "Logreg_acc = 0.8064\n",
    "c1_logreg_f1 = 0.88\n",
    "c2_logreg_f1 = 0.68\n",
    "c3_logreg_f1 = 0.83\n",
    "\n",
    "%store Logreg_acc\n",
    "%store c1_logreg_f1\n",
    "%store c2_logreg_f1\n",
    "%store c3_logreg_f1"
   ]
  },
  {
   "cell_type": "markdown",
   "metadata": {},
   "source": [
    "### Conclusions about Logistic Regression results\n",
    "> * Overall the **accuracy is good (0.8064)**. The accuracy % vs the Most Frequent Class (45%) indicates that the model can benefit from the quality of data and pre-processing step\n",
    "* Whilst the overall **f1 score is good for the class 0 and 2 (respectively 0.88 and 0.83), class 1 f1 score is lower (0.68)** vs the 2 other classes\n",
    "* The class 1 presents a \"bad prediction\" almost evenly distributed between the 2 other classes (not the case for the class 1 and 2)\n",
    "* We can highlight as well that class 1 is the one with the lowest bin width (30 to 41) vs the 2 other classes\n",
    "* At this stage, we cannot identify the main reasons for such performance without digging into the data. We will keep a specific attention to this fact when looking at the resuts of the other models"
   ]
  },
  {
   "cell_type": "markdown",
   "metadata": {},
   "source": [
    "## Rationale of the 2 types of model classifier selected: SVM and Random Forest\n",
    "> * The machine learning objective is to select 2 classes of classifiers which are distinctive enough in terms of fundamental approach and ability to process better (or not) certain types of features and structure of dataset (e.g. numerical vs categorical, high number of features, linear relationship vs non-linear between features...)\n",
    "* **Random Forest** (RF) is selected as the first class as it is a robust technique and efficient for dealing with a combination of numerical and categorical features. This algorithm performs well with high dimensional spaces and large number of training data points. Its good level of interpretability makes it as well a good candidate for this project. However, it tends to overfit that we will try to mitigate via hyper-parameter tuning and Cross-validation. An alternaive decision tree classifier (i.e. AdaBoost) would be consider depending on the performance of Random Forest\n",
    "* **Support Vector Machine** (SVM) is selected as the second class. It is a good complement of RF as it supports well high-dimensional space (e.g. used for text classification). It is recommended for non-linear problem while it can be tuned with different Kernels. However, on the down side, it is harder to interpret vs RF (or Logistic Regression) and would demand a higher level of computing resources, especially if the training set is large. In order to take benefit of the different kernels, we will tune a linear and non-linear approaches."
   ]
  }
 ],
 "metadata": {
  "kernelspec": {
   "display_name": "Python 3",
   "language": "python",
   "name": "python3"
  },
  "language_info": {
   "codemirror_mode": {
    "name": "ipython",
    "version": 3
   },
   "file_extension": ".py",
   "mimetype": "text/x-python",
   "name": "python",
   "nbconvert_exporter": "python",
   "pygments_lexer": "ipython3",
   "version": "3.6.9"
  }
 },
 "nbformat": 4,
 "nbformat_minor": 4
}
