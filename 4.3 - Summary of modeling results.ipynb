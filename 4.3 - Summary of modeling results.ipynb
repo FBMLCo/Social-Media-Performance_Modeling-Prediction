{
 "cells": [
  {
   "cell_type": "markdown",
   "metadata": {},
   "source": [
    "# Step 4.3: Summary of modeling results\n",
    "> * Visualize overall results of each Best Model slected per class of classifier\n",
    "* Decision about the Best Model selected"
   ]
  },
  {
   "cell_type": "markdown",
   "metadata": {},
   "source": [
    "## Import libaries"
   ]
  },
  {
   "cell_type": "code",
   "execution_count": 1,
   "metadata": {},
   "outputs": [],
   "source": [
    "import numpy as np\n",
    "import pandas as pd\n",
    "import seaborn as sns\n",
    "%matplotlib inline\n",
    "import matplotlib.pyplot as plt"
   ]
  },
  {
   "cell_type": "markdown",
   "metadata": {},
   "source": [
    "## Models which were evaluated are:\n",
    "> * Logistic regression (train dataset 10 000, test valid dataset 2 500)\n",
    "* Random Forest (train dataset 5 000, valid dataset 1 500)\n",
    "* SVM with Linear Kernel (train datasets 5 000, valid datasets 1 500)\n",
    "* SVM with RBF Kernel (train dataset 5 000, valid dataset 1 500)\n"
   ]
  },
  {
   "cell_type": "markdown",
   "metadata": {},
   "source": [
    "### Logistic Regression (Baseline model)"
   ]
  },
  {
   "cell_type": "code",
   "execution_count": 2,
   "metadata": {},
   "outputs": [
    {
     "name": "stdout",
     "output_type": "stream",
     "text": [
      "Logreg_acc: 0.8064\n",
      "c1_logreg_f1: 0.87\n",
      "c2_logreg_f1: 0.69\n",
      "c3_logreg_f1: 0.84\n"
     ]
    }
   ],
   "source": [
    "%store -r Logreg_acc\n",
    "%store -r c1_logreg_f1\n",
    "%store -r c2_logreg_f1\n",
    "%store -r c3_logreg_f1\n",
    "\n",
    "print('Logreg_acc:', Logreg_acc)\n",
    "print('c1_logreg_f1:', c1_logreg_f1)\n",
    "print('c2_logreg_f1:', c2_logreg_f1)\n",
    "print('c3_logreg_f1:', c3_logreg_f1)"
   ]
  },
  {
   "cell_type": "markdown",
   "metadata": {},
   "source": [
    "### Random Forest"
   ]
  },
  {
   "cell_type": "code",
   "execution_count": 3,
   "metadata": {},
   "outputs": [
    {
     "name": "stdout",
     "output_type": "stream",
     "text": [
      "rf_acc: 0.71\n",
      "c1_rf_f1: 0.8\n",
      "c2_rf_f1: 0.53\n",
      "c3_rf_f1: 0.76\n"
     ]
    }
   ],
   "source": [
    "%store -r rf_acc\n",
    "%store -r c1_rf_f1\n",
    "%store -r c2_rf_f1\n",
    "%store -r c3_rf_f1\n",
    "\n",
    "print('rf_acc:', rf_acc)\n",
    "print('c1_rf_f1:', c1_rf_f1)\n",
    "print('c2_rf_f1:', c2_rf_f1)\n",
    "print('c3_rf_f1:', c3_rf_f1)\n"
   ]
  },
  {
   "cell_type": "markdown",
   "metadata": {},
   "source": [
    "## AdaBoost"
   ]
  },
  {
   "cell_type": "code",
   "execution_count": 4,
   "metadata": {},
   "outputs": [
    {
     "name": "stdout",
     "output_type": "stream",
     "text": [
      "AdaBoost_acc: 0.75\n",
      "c1_ab_f1: 0.82\n",
      "c2_ab_f1: 0.67\n",
      "c3_ab_f1: 0.77\n"
     ]
    }
   ],
   "source": [
    "%store -r AdaBoost_acc\n",
    "%store -r c1_ab_f1\n",
    "%store -r c2_ab_f1\n",
    "%store -r c3_ab_f1\n",
    "\n",
    "print('AdaBoost_acc:', AdaBoost_acc)\n",
    "print('c1_ab_f1:', c1_ab_f1)\n",
    "print('c2_ab_f1:', c2_ab_f1)\n",
    "print('c3_ab_f1:', c3_ab_f1)\n"
   ]
  },
  {
   "cell_type": "markdown",
   "metadata": {},
   "source": [
    "### SVM with Linear Kernel"
   ]
  },
  {
   "cell_type": "code",
   "execution_count": 5,
   "metadata": {},
   "outputs": [
    {
     "name": "stdout",
     "output_type": "stream",
     "text": [
      "svm_Linear_acc: 0.9\n",
      "c1_svm_Linear_f1: 0.93\n",
      "c2_svm_Linear_f1: 0.85\n",
      "c3_svm_Linear_f1: 0.93\n"
     ]
    }
   ],
   "source": [
    "%store -r svm_Linear_acc\n",
    "%store -r c1_svm_Linear_f1\n",
    "%store -r c2_svm_Linear_f1\n",
    "%store -r c3_svm_Linear_f1\n",
    "\n",
    "print('svm_Linear_acc:', svm_Linear_acc)\n",
    "print('c1_svm_Linear_f1:', c1_svm_Linear_f1)\n",
    "print('c2_svm_Linear_f1:', c2_svm_Linear_f1)\n",
    "print('c3_svm_Linear_f1:', c3_svm_Linear_f1)"
   ]
  },
  {
   "cell_type": "markdown",
   "metadata": {},
   "source": [
    "### SVM with RBF Kernel"
   ]
  },
  {
   "cell_type": "code",
   "execution_count": 6,
   "metadata": {},
   "outputs": [
    {
     "name": "stdout",
     "output_type": "stream",
     "text": [
      "svm_rbf_acc: 0.9\n",
      "c1_svm_rbf_f1: 0.89\n",
      "c2_svm_rbf_f1: 0.77\n",
      "c3_svm_rbf_f1: 0.88\n"
     ]
    }
   ],
   "source": [
    "%store -r svm_rbf_acc\n",
    "%store -r c1_svm_rbf_f1\n",
    "%store -r c2_svm_rbf_f1\n",
    "%store -r c3_svm_rbf_f1\n",
    "\n",
    "print('svm_rbf_acc:', svm_Linear_acc)\n",
    "print('c1_svm_rbf_f1:', c1_svm_rbf_f1)\n",
    "print('c2_svm_rbf_f1:', c2_svm_rbf_f1)\n",
    "print('c3_svm_rbf_f1:', c3_svm_rbf_f1)"
   ]
  },
  {
   "cell_type": "markdown",
   "metadata": {},
   "source": [
    "### Bar chart to visualize results (Accuracy)"
   ]
  },
  {
   "cell_type": "code",
   "execution_count": 7,
   "metadata": {},
   "outputs": [],
   "source": [
    "# Create a dataset\n",
    "models=[Logreg_acc, rf_acc, AdaBoost_acc, svm_Linear_acc, svm_rbf_acc]"
   ]
  },
  {
   "cell_type": "code",
   "execution_count": 8,
   "metadata": {},
   "outputs": [
    {
     "data": {
      "text/plain": [
       "[0.8064, 0.71, 0.75, 0.9, 0.85]"
      ]
     },
     "execution_count": 8,
     "metadata": {},
     "output_type": "execute_result"
    }
   ],
   "source": [
    "models"
   ]
  },
  {
   "cell_type": "code",
   "execution_count": 9,
   "metadata": {},
   "outputs": [],
   "source": [
    "# Names of the models\n",
    "model_names=['Baseline_LogReg', 'Random Forest', 'AdaBoost', 'SVM_Linear', 'SVM_RBF']"
   ]
  },
  {
   "cell_type": "code",
   "execution_count": 10,
   "metadata": {},
   "outputs": [],
   "source": [
    "# Create the x position of the bars\n",
    "x_pos = list(range(len(model_names)))"
   ]
  },
  {
   "cell_type": "code",
   "execution_count": 11,
   "metadata": {},
   "outputs": [
    {
     "data": {
      "image/png": "[encoded data removed]",
      "text/plain": [
       "<Figure size 432x288 with 1 Axes>"
      ]
     },
     "metadata": {
      "needs_background": "light"
     },
     "output_type": "display_data"
    }
   ],
   "source": [
    "# Create the plot bars\n",
    "barchart = plt.bar(x_pos, models, align='center', color='b', alpha=0.5)\n",
    "\n",
    "# set axes labels and title\n",
    "plt.ylabel('Test Accuracy')\n",
    "plt.xticks(x_pos,model_names)\n",
    "plt.title('Comparison of model performances', fontweight=\"bold\")\n",
    "\n",
    "\n",
    "for barchart in barchart:\n",
    "    yval = barchart.get_height()\n",
    "    plt.text(barchart.get_x(), yval + .02, yval)\n",
    "    \n",
    "# set the size of the chart\n",
    "plt.rcParams[\"figure.figsize\"]=[10,10]\n",
    "\n",
    "plt.show()"
   ]
  },
  {
   "cell_type": "markdown",
   "metadata": {},
   "source": [
    "## Decision about the Best Model selected\n",
    "> * **Support Vector Machine with Linear Kernel** appears to be the most accurate and presenting a good overall f1 score; especially against the Baseline model and Random Forest\n",
    "* This model has been evaluated on a larger dataset (train 60 000, valid 20 000; i.e. 31% of the total dataset) => Accuracy on valid is the same 0.90 while f1 scores are better on the model traineed on a larger dataset\n",
    "* SVM with linear kernel will be preferred over RBf due to less demanding computing resources"
   ]
  }
 ],
 "metadata": {
  "kernelspec": {
   "display_name": "Python 3",
   "language": "python",
   "name": "python3"
  },
  "language_info": {
   "codemirror_mode": {
    "name": "ipython",
    "version": 3
   },
   "file_extension": ".py",
   "mimetype": "text/x-python",
   "name": "python",
   "nbconvert_exporter": "python",
   "pygments_lexer": "ipython3",
   "version": "3.6.9"
  }
 },
 "nbformat": 4,
 "nbformat_minor": 4
}
