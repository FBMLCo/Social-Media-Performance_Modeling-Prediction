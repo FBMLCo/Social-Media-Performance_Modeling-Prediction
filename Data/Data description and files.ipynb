{
 "cells": [
  {
   "cell_type": "markdown",
   "metadata": {},
   "source": [
    "## Nature, size and format of the data"
   ]
  },
  {
   "cell_type": "markdown",
   "metadata": {},
   "source": [
    "### Source of the dataset:\n",
    "> * The dataset comes from a social media listening tool (Brandwatch) which compiles threads from multiple sources of social media (e.g. Twitter, Facebook, news feed, forums, instgram; excl. LinkedIn). Reports and dashboards are generated based on set of parameters and queries. Brandwatch services are based on subscription.\n",
    "* Data set covers the social media activity of 5 companies operating in the scientific publishing and information solution business: Thomson Reuters, Clarivate, Pearson, Wolters Kluwer and RELX Group (Elsevier).\n",
    "* It combines posts initiated by those companies as threads published by other authors\n",
    "* **This public analysis focuses on TWITTER channel only**\n",
    "\n",
    "### The data set presents the following characteristics:\n",
    "> * Data are indexed based on individual thread/post (628 811 over the period January to June 2017)\n",
    "* Number of features (columns): 40\n",
    "* csv file (403 MB)\n",
    "* Mix of numeric values (e.g. performance indicators of posts) and text (i.e. title, snipet of each post, twitter hashtags)\n",
    "* Language: English\n",
    "* Geographical coverage: International\n"
   ]
  },
  {
   "cell_type": "markdown",
   "metadata": {},
   "source": [
    "## Links to access data directory:\n",
    ">* Link here: https://drive.google.com/open?id=1UbZYS3a3uVje_v7U09g3feXzZgDjJjoD"
   ]
  }
 ],
 "metadata": {
  "kernelspec": {
   "display_name": "Python 3",
   "language": "python",
   "name": "python3"
  },
  "language_info": {
   "codemirror_mode": {
    "name": "ipython",
    "version": 3
   },
   "file_extension": ".py",
   "mimetype": "text/x-python",
   "name": "python",
   "nbconvert_exporter": "python",
   "pygments_lexer": "ipython3",
   "version": "3.6.9"
  }
 },
 "nbformat": 4,
 "nbformat_minor": 4
}
